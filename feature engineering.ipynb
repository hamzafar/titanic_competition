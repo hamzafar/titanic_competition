{
 "cells": [
  {
   "cell_type": "code",
   "execution_count": 1,
   "metadata": {
    "collapsed": true
   },
   "outputs": [],
   "source": [
    "import pandas as pd\n",
    "import matplotlib.pyplot as plt\n",
    "%matplotlib inline\n",
    "\n",
    "import numpy as np"
   ]
  },
  {
   "cell_type": "code",
   "execution_count": 2,
   "metadata": {
    "collapsed": true
   },
   "outputs": [],
   "source": [
    "df_train = pd.read_csv('F:/Titanic/data/train.csv')"
   ]
  },
  {
   "cell_type": "code",
   "execution_count": 3,
   "metadata": {
    "collapsed": false
   },
   "outputs": [
    {
     "data": {
      "text/html": [
       "<div>\n",
       "<table border=\"1\" class=\"dataframe\">\n",
       "  <thead>\n",
       "    <tr style=\"text-align: right;\">\n",
       "      <th></th>\n",
       "      <th>PassengerId</th>\n",
       "      <th>Survived</th>\n",
       "      <th>Pclass</th>\n",
       "      <th>Name</th>\n",
       "      <th>Sex</th>\n",
       "      <th>Age</th>\n",
       "      <th>SibSp</th>\n",
       "      <th>Parch</th>\n",
       "      <th>Ticket</th>\n",
       "      <th>Fare</th>\n",
       "      <th>Cabin</th>\n",
       "      <th>Embarked</th>\n",
       "    </tr>\n",
       "  </thead>\n",
       "  <tbody>\n",
       "    <tr>\n",
       "      <th>0</th>\n",
       "      <td>1</td>\n",
       "      <td>0</td>\n",
       "      <td>3</td>\n",
       "      <td>Braund, Mr. Owen Harris</td>\n",
       "      <td>male</td>\n",
       "      <td>22.0</td>\n",
       "      <td>1</td>\n",
       "      <td>0</td>\n",
       "      <td>A/5 21171</td>\n",
       "      <td>7.2500</td>\n",
       "      <td>NaN</td>\n",
       "      <td>S</td>\n",
       "    </tr>\n",
       "    <tr>\n",
       "      <th>1</th>\n",
       "      <td>2</td>\n",
       "      <td>1</td>\n",
       "      <td>1</td>\n",
       "      <td>Cumings, Mrs. John Bradley (Florence Briggs Th...</td>\n",
       "      <td>female</td>\n",
       "      <td>38.0</td>\n",
       "      <td>1</td>\n",
       "      <td>0</td>\n",
       "      <td>PC 17599</td>\n",
       "      <td>71.2833</td>\n",
       "      <td>C85</td>\n",
       "      <td>C</td>\n",
       "    </tr>\n",
       "    <tr>\n",
       "      <th>2</th>\n",
       "      <td>3</td>\n",
       "      <td>1</td>\n",
       "      <td>3</td>\n",
       "      <td>Heikkinen, Miss. Laina</td>\n",
       "      <td>female</td>\n",
       "      <td>26.0</td>\n",
       "      <td>0</td>\n",
       "      <td>0</td>\n",
       "      <td>STON/O2. 3101282</td>\n",
       "      <td>7.9250</td>\n",
       "      <td>NaN</td>\n",
       "      <td>S</td>\n",
       "    </tr>\n",
       "    <tr>\n",
       "      <th>3</th>\n",
       "      <td>4</td>\n",
       "      <td>1</td>\n",
       "      <td>1</td>\n",
       "      <td>Futrelle, Mrs. Jacques Heath (Lily May Peel)</td>\n",
       "      <td>female</td>\n",
       "      <td>35.0</td>\n",
       "      <td>1</td>\n",
       "      <td>0</td>\n",
       "      <td>113803</td>\n",
       "      <td>53.1000</td>\n",
       "      <td>C123</td>\n",
       "      <td>S</td>\n",
       "    </tr>\n",
       "    <tr>\n",
       "      <th>4</th>\n",
       "      <td>5</td>\n",
       "      <td>0</td>\n",
       "      <td>3</td>\n",
       "      <td>Allen, Mr. William Henry</td>\n",
       "      <td>male</td>\n",
       "      <td>35.0</td>\n",
       "      <td>0</td>\n",
       "      <td>0</td>\n",
       "      <td>373450</td>\n",
       "      <td>8.0500</td>\n",
       "      <td>NaN</td>\n",
       "      <td>S</td>\n",
       "    </tr>\n",
       "  </tbody>\n",
       "</table>\n",
       "</div>"
      ],
      "text/plain": [
       "   PassengerId  Survived  Pclass  \\\n",
       "0            1         0       3   \n",
       "1            2         1       1   \n",
       "2            3         1       3   \n",
       "3            4         1       1   \n",
       "4            5         0       3   \n",
       "\n",
       "                                                Name     Sex   Age  SibSp  \\\n",
       "0                            Braund, Mr. Owen Harris    male  22.0      1   \n",
       "1  Cumings, Mrs. John Bradley (Florence Briggs Th...  female  38.0      1   \n",
       "2                             Heikkinen, Miss. Laina  female  26.0      0   \n",
       "3       Futrelle, Mrs. Jacques Heath (Lily May Peel)  female  35.0      1   \n",
       "4                           Allen, Mr. William Henry    male  35.0      0   \n",
       "\n",
       "   Parch            Ticket     Fare Cabin Embarked  \n",
       "0      0         A/5 21171   7.2500   NaN        S  \n",
       "1      0          PC 17599  71.2833   C85        C  \n",
       "2      0  STON/O2. 3101282   7.9250   NaN        S  \n",
       "3      0            113803  53.1000  C123        S  \n",
       "4      0            373450   8.0500   NaN        S  "
      ]
     },
     "execution_count": 3,
     "metadata": {},
     "output_type": "execute_result"
    }
   ],
   "source": [
    "df_train.head()"
   ]
  },
  {
   "cell_type": "code",
   "execution_count": 4,
   "metadata": {
    "collapsed": true
   },
   "outputs": [],
   "source": [
    "def replace_age_fraction(df_train):\n",
    "    df_train.loc[df_train['Age']<1,'Age'] = df_train.loc[df_train['Age']<1,'Age']*100\n",
    "    print len(df_train.loc[df_train['Age']<1,'Age'])\n"
   ]
  },
  {
   "cell_type": "code",
   "execution_count": 5,
   "metadata": {
    "collapsed": false
   },
   "outputs": [],
   "source": [
    "def replace_na_to_mode(df_train):\n",
    "    for i in df_train.columns:\n",
    "    \n",
    "        if(i in ['PassengerId','Name']):\n",
    "            pass\n",
    "        else:\n",
    "            print i\n",
    "            df_train[i]= df_train[i].fillna(df_train[i].mode()[0]) # fill na by mode Values"
   ]
  },
  {
   "cell_type": "code",
   "execution_count": 6,
   "metadata": {
    "collapsed": false
   },
   "outputs": [
    {
     "name": "stdout",
     "output_type": "stream",
     "text": [
      "0\n"
     ]
    }
   ],
   "source": [
    "replace_age_fraction(df_train)\n"
   ]
  },
  {
   "cell_type": "code",
   "execution_count": 7,
   "metadata": {
    "collapsed": false
   },
   "outputs": [
    {
     "name": "stdout",
     "output_type": "stream",
     "text": [
      "Survived\n",
      "Pclass\n",
      "Sex\n",
      "Age\n",
      "SibSp\n",
      "Parch\n",
      "Ticket\n",
      "Fare\n",
      "Cabin\n",
      "Embarked\n"
     ]
    }
   ],
   "source": [
    "replace_na_to_mode(df_train)"
   ]
  },
  {
   "cell_type": "markdown",
   "metadata": {},
   "source": [
    "### Create polynomial of column values"
   ]
  },
  {
   "cell_type": "code",
   "execution_count": 8,
   "metadata": {
    "collapsed": true
   },
   "outputs": [],
   "source": [
    "def polynomial_data(dataframe, column_name, power =1):\n",
    "    tmp_df = pd.DataFrame()\n",
    "    col_degree = [column_name+str(i) for i in range(1,power+1)]\n",
    "    \n",
    "    for i in range(1,power+1):\n",
    "        tmp_df[col_degree[i-1]]=dataframe[column_name]**i\n",
    "        \n",
    "    return tmp_df"
   ]
  },
  {
   "cell_type": "code",
   "execution_count": 18,
   "metadata": {
    "collapsed": false
   },
   "outputs": [],
   "source": [
    "\n",
    "df_poly = pd.concat([polynomial_data(df_train,'Pclass',2), \n",
    "                 polynomial_data(df_train,'Age',2),\n",
    "                 polynomial_data(df_train,'Fare',2), \n",
    "                 df_train], axis=1).head()"
   ]
  },
  {
   "cell_type": "code",
   "execution_count": 34,
   "metadata": {
    "collapsed": false
   },
   "outputs": [
    {
     "name": "stdout",
     "output_type": "stream",
     "text": [
      "891\n",
      "5\n"
     ]
    }
   ],
   "source": [
    "print len(df_train['Age'])\n",
    "print len(df_poly['Age1'])"
   ]
  },
  {
   "cell_type": "code",
   "execution_count": 19,
   "metadata": {
    "collapsed": false
   },
   "outputs": [
    {
     "data": {
      "text/plain": [
       "Index([u'Pclass1', u'Pclass2', u'Age1', u'Age2', u'Fare1', u'Fare2',\n",
       "       u'PassengerId', u'Survived', u'Pclass', u'Name', u'Sex', u'Age',\n",
       "       u'SibSp', u'Parch', u'Ticket', u'Fare', u'Cabin', u'Embarked'],\n",
       "      dtype='object')"
      ]
     },
     "execution_count": 19,
     "metadata": {},
     "output_type": "execute_result"
    }
   ],
   "source": [
    "df_poly.columns"
   ]
  },
  {
   "cell_type": "code",
   "execution_count": null,
   "metadata": {
    "collapsed": true
   },
   "outputs": [],
   "source": []
  },
  {
   "cell_type": "code",
   "execution_count": 20,
   "metadata": {
    "collapsed": true
   },
   "outputs": [],
   "source": [
    "import h2o"
   ]
  },
  {
   "cell_type": "code",
   "execution_count": 21,
   "metadata": {
    "collapsed": false
   },
   "outputs": [
    {
     "name": "stdout",
     "output_type": "stream",
     "text": [
      "Checking whether there is an H2O instance running at http://localhost:54321. connected.\n"
     ]
    },
    {
     "data": {
      "text/html": [
       "<div style=\"overflow:auto\"><table style=\"width:50%\"><tr><td>H2O cluster uptime:</td>\n",
       "<td>1 min 47 secs</td></tr>\n",
       "<tr><td>H2O cluster version:</td>\n",
       "<td>3.10.3.4</td></tr>\n",
       "<tr><td>H2O cluster version age:</td>\n",
       "<td>1 month and 1 day </td></tr>\n",
       "<tr><td>H2O cluster name:</td>\n",
       "<td>H2O_from_python_hamza_r1tklm</td></tr>\n",
       "<tr><td>H2O cluster total nodes:</td>\n",
       "<td>1</td></tr>\n",
       "<tr><td>H2O cluster free memory:</td>\n",
       "<td>5.312 Gb</td></tr>\n",
       "<tr><td>H2O cluster total cores:</td>\n",
       "<td>4</td></tr>\n",
       "<tr><td>H2O cluster allowed cores:</td>\n",
       "<td>4</td></tr>\n",
       "<tr><td>H2O cluster status:</td>\n",
       "<td>locked, healthy</td></tr>\n",
       "<tr><td>H2O connection url:</td>\n",
       "<td>http://localhost:54321</td></tr>\n",
       "<tr><td>H2O connection proxy:</td>\n",
       "<td>None</td></tr>\n",
       "<tr><td>Python version:</td>\n",
       "<td>2.7.11 final</td></tr></table></div>"
      ],
      "text/plain": [
       "--------------------------  ----------------------------\n",
       "H2O cluster uptime:         1 min 47 secs\n",
       "H2O cluster version:        3.10.3.4\n",
       "H2O cluster version age:    1 month and 1 day\n",
       "H2O cluster name:           H2O_from_python_hamza_r1tklm\n",
       "H2O cluster total nodes:    1\n",
       "H2O cluster free memory:    5.312 Gb\n",
       "H2O cluster total cores:    4\n",
       "H2O cluster allowed cores:  4\n",
       "H2O cluster status:         locked, healthy\n",
       "H2O connection url:         http://localhost:54321\n",
       "H2O connection proxy:\n",
       "Python version:             2.7.11 final\n",
       "--------------------------  ----------------------------"
      ]
     },
     "metadata": {},
     "output_type": "display_data"
    }
   ],
   "source": [
    "h2o.init(max_mem_size='6g')"
   ]
  },
  {
   "cell_type": "code",
   "execution_count": 31,
   "metadata": {
    "collapsed": false
   },
   "outputs": [
    {
     "name": "stdout",
     "output_type": "stream",
     "text": [
      "Parse progress: |█████████████████████████████████████████████████████████| 100%\n"
     ]
    }
   ],
   "source": [
    "hdf = h2o.H2OFrame(df_poly)\n",
    "hdf['Survived']= hdf['Survived'].asfactor()\n",
    "hdf_train, hdf_validate = hdf.split_frame([0.50], seed=100)"
   ]
  },
  {
   "cell_type": "code",
   "execution_count": 32,
   "metadata": {
    "collapsed": false
   },
   "outputs": [
    {
     "data": {
      "text/html": [
       "<table>\n",
       "<thead>\n",
       "<tr><th style=\"text-align: right;\">  Pclass1</th><th style=\"text-align: right;\">  Pclass2</th><th style=\"text-align: right;\">  Age1</th><th style=\"text-align: right;\">  Age2</th><th style=\"text-align: right;\">  Fare1</th><th style=\"text-align: right;\">  Fare2</th><th style=\"text-align: right;\">  PassengerId</th><th style=\"text-align: right;\">  Survived</th><th style=\"text-align: right;\">  Pclass</th><th>Name                   </th><th>Sex  </th><th style=\"text-align: right;\">  Age</th><th style=\"text-align: right;\">  SibSp</th><th style=\"text-align: right;\">  Parch</th><th>Ticket   </th><th style=\"text-align: right;\">  Fare</th><th>Cabin  </th><th>Embarked  </th></tr>\n",
       "</thead>\n",
       "<tbody>\n",
       "<tr><td style=\"text-align: right;\">        3</td><td style=\"text-align: right;\">        9</td><td style=\"text-align: right;\">    22</td><td style=\"text-align: right;\">   484</td><td style=\"text-align: right;\">   7.25</td><td style=\"text-align: right;\">52.5625</td><td style=\"text-align: right;\">            1</td><td style=\"text-align: right;\">         0</td><td style=\"text-align: right;\">       3</td><td>Braund, Mr. Owen Harris</td><td>male </td><td style=\"text-align: right;\">   22</td><td style=\"text-align: right;\">      1</td><td style=\"text-align: right;\">      0</td><td>A/5 21171</td><td style=\"text-align: right;\">  7.25</td><td>B96 B98</td><td>S         </td></tr>\n",
       "</tbody>\n",
       "</table>"
      ]
     },
     "metadata": {},
     "output_type": "display_data"
    },
    {
     "data": {
      "text/plain": []
     },
     "execution_count": 32,
     "metadata": {},
     "output_type": "execute_result"
    }
   ],
   "source": [
    "hdf_validate.head(1)"
   ]
  },
  {
   "cell_type": "code",
   "execution_count": 25,
   "metadata": {
    "collapsed": false
   },
   "outputs": [
    {
     "name": "stdout",
     "output_type": "stream",
     "text": [
      "[u'Pclass1', u'Pclass2', u'Age1', u'Age2', u'Fare1', u'Fare2', u'PassengerId', u'Pclass', u'Name', u'Sex', u'Age', u'SibSp', u'Parch', u'Ticket', u'Fare', u'Cabin', u'Embarked']\n"
     ]
    }
   ],
   "source": [
    "input_col = hdf.col_names\n",
    "input_col.remove('Survived')\n",
    "print input_col"
   ]
  },
  {
   "cell_type": "code",
   "execution_count": 26,
   "metadata": {
    "collapsed": true
   },
   "outputs": [],
   "source": [
    "from h2o.estimators.naive_bayes import H2ONaiveBayesEstimator"
   ]
  },
  {
   "cell_type": "code",
   "execution_count": 27,
   "metadata": {
    "collapsed": false
   },
   "outputs": [
    {
     "ename": "H2OResponseError",
     "evalue": "ModelBuilderErrorV3  (water.exceptions.H2OModelBuilderIllegalArgumentException):\n    stacktrace =\n        water.exceptions.H2OModelBuilderIllegalArgumentException: Illegal argument(s) for NaiveBayes model: NaiveBayes_model_python_1488664156061_1.  Details: ERRR on field: _validation_frame: Validation frame must have > 0 rows.\n        water.exceptions.H2OModelBuilderIllegalArgumentException.makeFromBuilder(H2OModelBuilderIllegalArgumentException.java:20)\n        hex.ModelBuilder.trainModel(ModelBuilder.java:194)\n        water.api.ModelBuilderHandler.handle(ModelBuilderHandler.java:52)\n        water.api.ModelBuilderHandler.handle(ModelBuilderHandler.java:16)\n        water.api.RequestServer.serve(RequestServer.java:429)\n        water.api.RequestServer.doGeneric(RequestServer.java:280)\n        water.api.RequestServer.doPost(RequestServer.java:217)\n        javax.servlet.http.HttpServlet.service(HttpServlet.java:755)\n        javax.servlet.http.HttpServlet.service(HttpServlet.java:848)\n        org.eclipse.jetty.servlet.ServletHolder.handle(ServletHolder.java:684)\n        org.eclipse.jetty.servlet.ServletHandler.doHandle(ServletHandler.java:503)\n        org.eclipse.jetty.server.handler.ScopedHandler.handle(ScopedHandler.java:137)\n        org.eclipse.jetty.security.SecurityHandler.handle(SecurityHandler.java:557)\n        org.eclipse.jetty.server.session.SessionHandler.doHandle(SessionHandler.java:231)\n        org.eclipse.jetty.server.handler.ContextHandler.doHandle(ContextHandler.java:1086)\n        org.eclipse.jetty.servlet.ServletHandler.doScope(ServletHandler.java:429)\n        org.eclipse.jetty.server.session.SessionHandler.doScope(SessionHandler.java:193)\n        org.eclipse.jetty.server.handler.ContextHandler.doScope(ContextHandler.java:1020)\n        org.eclipse.jetty.server.handler.ScopedHandler.handle(ScopedHandler.java:135)\n        org.eclipse.jetty.server.handler.HandlerCollection.handle(HandlerCollection.java:154)\n        org.eclipse.jetty.server.handler.HandlerWrapper.handle(HandlerWrapper.java:116)\n        org.eclipse.jetty.server.Server.handle(Server.java:370)\n        org.eclipse.jetty.server.AbstractHttpConnection.handleRequest(AbstractHttpConnection.java:494)\n        org.eclipse.jetty.server.BlockingHttpConnection.handleRequest(BlockingHttpConnection.java:53)\n        org.eclipse.jetty.server.AbstractHttpConnection.content(AbstractHttpConnection.java:982)\n        org.eclipse.jetty.server.AbstractHttpConnection$RequestHandler.content(AbstractHttpConnection.java:1043)\n        org.eclipse.jetty.http.HttpParser.parseNext(HttpParser.java:865)\n        org.eclipse.jetty.http.HttpParser.parseAvailable(HttpParser.java:240)\n        org.eclipse.jetty.server.BlockingHttpConnection.handle(BlockingHttpConnection.java:72)\n        org.eclipse.jetty.server.bio.SocketConnector$ConnectorEndPoint.run(SocketConnector.java:264)\n        org.eclipse.jetty.util.thread.QueuedThreadPool.runJob(QueuedThreadPool.java:608)\n        org.eclipse.jetty.util.thread.QueuedThreadPool$3.run(QueuedThreadPool.java:543)\n        java.lang.Thread.run(Unknown Source)\n    parameters = {u'fold_column': None, u'response_column': {u'is_member_of_frames': None, u'column_name': u'Survived', u'__meta': {u'schema_name': u'ColSpecifierV3', u'schema_version': 3, u'schema_type': u'VecSpecifier'}}, u'stopping_metric': u'AUTO', u'parallelize_cross_validation': True, u'seed': 1, u'weights_column': None, u'stopping_rounds': 0, u'nfolds': 0, u'max_confusion_matrix_size': 20, u'offset_column': None, u'categorical_encoding': u'AUTO', u'checkpoint': None, u'stopping_tolerance': 0.001, u'huber_alpha': 0.9, u'max_runtime_secs': 0.0, u'quantile_alpha': 0.5, u'balance_classes': False, u'validation_frame': {u'URL': u'/3/Frames/py_11_sid_9699', u'type': u'Key<Frame>', u'name': u'py_11_sid_9699', u'__meta': {u'schema_name': u'FrameKeyV3', u'schema_version': 3, u'schema_type': u'Key<Frame>'}}, u'eps_prob': 0.0, u'min_sdev': 0.001, u'model_id': None, u'min_prob': 0.001, u'ignored_columns': None, u'tweedie_power': 1.5, u'eps_sdev': 0.0, u'score_each_iteration': False, u'max_after_balance_size': 5.0, u'compute_metrics': True, u'training_frame': {u'URL': u'/3/Frames/py_10_sid_9699', u'type': u'Key<Frame>', u'name': u'py_10_sid_9699', u'__meta': {u'schema_name': u'FrameKeyV3', u'schema_version': 3, u'schema_type': u'Key<Frame>'}}, u'laplace': 0.0, u'fold_assignment': u'AUTO', u'keep_cross_validation_predictions': False, u'__meta': {u'schema_name': u'NaiveBayesParametersV3', u'schema_version': 3, u'schema_type': u'NaiveBayesParameters'}, u'max_hit_ratio_k': 0, u'distribution': u'AUTO', u'class_sampling_factors': None, u'ignore_const_cols': True, u'keep_cross_validation_fold_assignment': False}\n    exception_msg = u'Illegal argument(s) for NaiveBayes model: NaiveBayes_model_python_1488664156061_1.  Details: ERRR on field: _validation_frame: Validation frame must have > 0 rows.'\n    timestamp = 1488664273506L\n    messages = [{u'field_name': u'keep_cross_validation_predictions', u'message': u'Only for cross-validation.', u'message_type': u'TRACE', u'__meta': {u'schema_name': u'ValidationMessageV3', u'schema_version': 3, u'schema_type': u'ValidationMessage'}}, {u'field_name': u'keep_cross_validation_fold_assignment', u'message': u'Only for cross-validation.', u'message_type': u'TRACE', u'__meta': {u'schema_name': u'ValidationMessageV3', u'schema_version': 3, u'schema_type': u'ValidationMessage'}}, {u'field_name': u'fold_assignment', u'message': u'Only for cross-validation.', u'message_type': u'TRACE', u'__meta': {u'schema_name': u'ValidationMessageV3', u'schema_version': 3, u'schema_type': u'ValidationMessage'}}, {u'field_name': u'tweedie_power', u'message': u'Only for Tweedie Distribution.', u'message_type': u'TRACE', u'__meta': {u'schema_name': u'ValidationMessageV3', u'schema_version': 3, u'schema_type': u'ValidationMessage'}}, {u'field_name': u'train', u'message': u'Dropping constant columns: [Ticket, Name, Parch]', u'message_type': u'WARN', u'__meta': {u'schema_name': u'ValidationMessageV3', u'schema_version': 3, u'schema_type': u'ValidationMessage'}}, {u'field_name': u'tweedie_power', u'message': u'Tweedie power is only used for Tweedie distribution.', u'message_type': u'TRACE', u'__meta': {u'schema_name': u'ValidationMessageV3', u'schema_version': 3, u'schema_type': u'ValidationMessage'}}, {u'field_name': u'quantile_alpha', u'message': u'Quantile (alpha) is only used for Quantile regression.', u'message_type': u'TRACE', u'__meta': {u'schema_name': u'ValidationMessageV3', u'schema_version': 3, u'schema_type': u'ValidationMessage'}}, {u'field_name': u'max_after_balance_size', u'message': u'Balance classes is false, hide max_after_balance_size', u'message_type': u'TRACE', u'__meta': {u'schema_name': u'ValidationMessageV3', u'schema_version': 3, u'schema_type': u'ValidationMessage'}}, {u'field_name': u'max_hit_ratio_k', u'message': u'Max K-value for hit ratio is only applicable to multi-class classification problems.', u'message_type': u'TRACE', u'__meta': {u'schema_name': u'ValidationMessageV3', u'schema_version': 3, u'schema_type': u'ValidationMessage'}}, {u'field_name': u'max_confusion_matrix_size', u'message': u'Only for multi-class classification problems.', u'message_type': u'TRACE', u'__meta': {u'schema_name': u'ValidationMessageV3', u'schema_version': 3, u'schema_type': u'ValidationMessage'}}, {u'field_name': u'max_after_balance_size', u'message': u'Only used with balanced classes', u'message_type': u'TRACE', u'__meta': {u'schema_name': u'ValidationMessageV3', u'schema_version': 3, u'schema_type': u'ValidationMessage'}}, {u'field_name': u'class_sampling_factors', u'message': u'Class sampling factors is only applicable if balancing classes.', u'message_type': u'TRACE', u'__meta': {u'schema_name': u'ValidationMessageV3', u'schema_version': 3, u'schema_type': u'ValidationMessage'}}, {u'field_name': u'validation_frame', u'message': u'Validation frame must have > 0 rows.', u'message_type': u'ERRR', u'__meta': {u'schema_name': u'ValidationMessageV3', u'schema_version': 3, u'schema_type': u'ValidationMessage'}}, {u'field_name': u'balance_classes', u'message': u'Balance classes is not applicable to NaiveBayes.', u'message_type': u'TRACE', u'__meta': {u'schema_name': u'ValidationMessageV3', u'schema_version': 3, u'schema_type': u'ValidationMessage'}}, {u'field_name': u'class_sampling_factors', u'message': u'Class sampling factors is not applicable to NaiveBayes.', u'message_type': u'TRACE', u'__meta': {u'schema_name': u'ValidationMessageV3', u'schema_version': 3, u'schema_type': u'ValidationMessage'}}, {u'field_name': u'max_after_balance_size', u'message': u'Max after balance size is not applicable to NaiveBayes.', u'message_type': u'TRACE', u'__meta': {u'schema_name': u'ValidationMessageV3', u'schema_version': 3, u'schema_type': u'ValidationMessage'}}]\n    error_url = u'/3/ModelBuilders/naivebayes'\n    values = {u'messages': [{u'_log_level': 5, u'_message': u'Only for cross-validation.', u'_field_name': u'_keep_cross_validation_predictions'}, {u'_log_level': 5, u'_message': u'Only for cross-validation.', u'_field_name': u'_keep_cross_validation_fold_assignment'}, {u'_log_level': 5, u'_message': u'Only for cross-validation.', u'_field_name': u'_fold_assignment'}, {u'_log_level': 5, u'_message': u'Only for Tweedie Distribution.', u'_field_name': u'_tweedie_power'}, {u'_log_level': 2, u'_message': u'Dropping constant columns: [Ticket, Name, Parch]', u'_field_name': u'_train'}, {u'_log_level': 5, u'_message': u'Tweedie power is only used for Tweedie distribution.', u'_field_name': u'_tweedie_power'}, {u'_log_level': 5, u'_message': u'Quantile (alpha) is only used for Quantile regression.', u'_field_name': u'_quantile_alpha'}, {u'_log_level': 5, u'_message': u'Balance classes is false, hide max_after_balance_size', u'_field_name': u'_max_after_balance_size'}, {u'_log_level': 5, u'_message': u'Max K-value for hit ratio is only applicable to multi-class classification problems.', u'_field_name': u'_max_hit_ratio_k'}, {u'_log_level': 5, u'_message': u'Only for multi-class classification problems.', u'_field_name': u'_max_confusion_matrix_size'}, {u'_log_level': 5, u'_message': u'Only used with balanced classes', u'_field_name': u'_max_after_balance_size'}, {u'_log_level': 5, u'_message': u'Class sampling factors is only applicable if balancing classes.', u'_field_name': u'_class_sampling_factors'}, {u'_log_level': 1, u'_message': u'Validation frame must have > 0 rows.', u'_field_name': u'_validation_frame'}, {u'_log_level': 5, u'_message': u'Balance classes is not applicable to NaiveBayes.', u'_field_name': u'_balance_classes'}, {u'_log_level': 5, u'_message': u'Class sampling factors is not applicable to NaiveBayes.', u'_field_name': u'_class_sampling_factors'}, {u'_log_level': 5, u'_message': u'Max after balance size is not applicable to NaiveBayes.', u'_field_name': u'_max_after_balance_size'}], u'algo': u'NaiveBayes', u'parameters': {u'_min_prob': 0.001, u'_fold_assignment': u'AUTO', u'_class_sampling_factors': None, u'_max_confusion_matrix_size': 20, u'_min_sdev': 0.001, u'_response_column': u'Survived', u'_score_each_iteration': False, u'_laplace': 0.0, u'_stopping_tolerance': 0.001, u'_distribution': u'AUTO', u'_stopping_metric': u'AUTO', u'_quantile_alpha': 0.5, u'_huber_alpha': 0.9, u'_max_after_balance_size': 5.0, u'_parallelize_cross_validation': True, u'_train': {u'type': u'Key', u'name': u'py_10_sid_9699'}, u'_pretrained_autoencoder': None, u'_valid': {u'type': u'Key', u'name': u'py_11_sid_9699'}, u'_checkpoint': None, u'_nfolds': 0, u'_is_cv_model': False, u'_offset_column': None, u'_seed': 1, u'_eps_prob': 0.0, u'_ignore_const_cols': True, u'_auto_rebalance': True, u'_eps_sdev': 0.0, u'_balance_classes': False, u'_stopping_rounds': 0, u'_fold_column': None, u'_keep_cross_validation_predictions': False, u'_categorical_encoding': u'AUTO', u'_tweedie_power': 1.5, u'_compute_metrics': True, u'_weights_column': None, u'_max_runtime_secs': 0.0, u'_keep_cross_validation_fold_assignment': False, u'_ignored_columns': None}, u'error_count': 1}\n    error_count = 1\n    http_status = 412\n    msg = u'Illegal argument(s) for NaiveBayes model: NaiveBayes_model_python_1488664156061_1.  Details: ERRR on field: _validation_frame: Validation frame must have > 0 rows.'\n    dev_msg = u'Illegal argument(s) for NaiveBayes model: NaiveBayes_model_python_1488664156061_1.  Details: ERRR on field: _validation_frame: Validation frame must have > 0 rows.'\n",
     "output_type": "error",
     "traceback": [
      "\u001b[1;31m---------------------------------------------------------------------------\u001b[0m",
      "\u001b[1;31mH2OResponseError\u001b[0m                          Traceback (most recent call last)",
      "\u001b[1;32m<ipython-input-27-3deb24798fde>\u001b[0m in \u001b[0;36m<module>\u001b[1;34m()\u001b[0m\n\u001b[0;32m      1\u001b[0m \u001b[0mnb\u001b[0m \u001b[1;33m=\u001b[0m\u001b[0mH2ONaiveBayesEstimator\u001b[0m\u001b[1;33m(\u001b[0m\u001b[0mseed\u001b[0m \u001b[1;33m=\u001b[0m\u001b[1;36m1\u001b[0m\u001b[1;33m)\u001b[0m\u001b[1;33m\u001b[0m\u001b[0m\n\u001b[1;32m----> 2\u001b[1;33m \u001b[0mnb\u001b[0m\u001b[1;33m.\u001b[0m\u001b[0mtrain\u001b[0m\u001b[1;33m(\u001b[0m\u001b[0mx\u001b[0m \u001b[1;33m=\u001b[0m\u001b[0minput_col\u001b[0m\u001b[1;33m,\u001b[0m \u001b[0my\u001b[0m \u001b[1;33m=\u001b[0m \u001b[1;34m'Survived'\u001b[0m\u001b[1;33m,\u001b[0m \u001b[0mtraining_frame\u001b[0m\u001b[1;33m=\u001b[0m\u001b[0mhdf_train\u001b[0m\u001b[1;33m,\u001b[0m \u001b[0mvalidation_frame\u001b[0m\u001b[1;33m=\u001b[0m\u001b[0mhdf_validate\u001b[0m\u001b[1;33m)\u001b[0m\u001b[1;33m\u001b[0m\u001b[0m\n\u001b[0m",
      "\u001b[1;32mC:\\Users\\hamza\\Anaconda3\\envs\\gl-env\\lib\\site-packages\\h2o\\estimators\\estimator_base.pyc\u001b[0m in \u001b[0;36mtrain\u001b[1;34m(self, x, y, training_frame, offset_column, fold_column, weights_column, validation_frame, max_runtime_secs, ignored_columns, model_id)\u001b[0m\n\u001b[0;32m    194\u001b[0m         \u001b[0mrest_ver\u001b[0m \u001b[1;33m=\u001b[0m \u001b[0mparms\u001b[0m\u001b[1;33m.\u001b[0m\u001b[0mpop\u001b[0m\u001b[1;33m(\u001b[0m\u001b[1;34m\"_rest_version\"\u001b[0m\u001b[1;33m)\u001b[0m \u001b[1;32mif\u001b[0m \u001b[1;34m\"_rest_version\"\u001b[0m \u001b[1;32min\u001b[0m \u001b[0mparms\u001b[0m \u001b[1;32melse\u001b[0m \u001b[1;36m3\u001b[0m\u001b[1;33m\u001b[0m\u001b[0m\n\u001b[0;32m    195\u001b[0m \u001b[1;33m\u001b[0m\u001b[0m\n\u001b[1;32m--> 196\u001b[1;33m         model = H2OJob(h2o.api(\"POST /%d/ModelBuilders/%s\" % (rest_ver, self.algo), data=parms),\n\u001b[0m\u001b[0;32m    197\u001b[0m                        job_type=(self.algo + \" Model Build\"))\n\u001b[0;32m    198\u001b[0m \u001b[1;33m\u001b[0m\u001b[0m\n",
      "\u001b[1;32mC:\\Users\\hamza\\Anaconda3\\envs\\gl-env\\lib\\site-packages\\h2o\\h2o.pyc\u001b[0m in \u001b[0;36mapi\u001b[1;34m(endpoint, data, json, filename, save_to)\u001b[0m\n\u001b[0;32m     95\u001b[0m     \u001b[1;31m# type checks are performed in H2OConnection class\u001b[0m\u001b[1;33m\u001b[0m\u001b[1;33m\u001b[0m\u001b[0m\n\u001b[0;32m     96\u001b[0m     \u001b[0m_check_connection\u001b[0m\u001b[1;33m(\u001b[0m\u001b[1;33m)\u001b[0m\u001b[1;33m\u001b[0m\u001b[0m\n\u001b[1;32m---> 97\u001b[1;33m     \u001b[1;32mreturn\u001b[0m \u001b[0mh2oconn\u001b[0m\u001b[1;33m.\u001b[0m\u001b[0mrequest\u001b[0m\u001b[1;33m(\u001b[0m\u001b[0mendpoint\u001b[0m\u001b[1;33m,\u001b[0m \u001b[0mdata\u001b[0m\u001b[1;33m=\u001b[0m\u001b[0mdata\u001b[0m\u001b[1;33m,\u001b[0m \u001b[0mjson\u001b[0m\u001b[1;33m=\u001b[0m\u001b[0mjson\u001b[0m\u001b[1;33m,\u001b[0m \u001b[0mfilename\u001b[0m\u001b[1;33m=\u001b[0m\u001b[0mfilename\u001b[0m\u001b[1;33m,\u001b[0m \u001b[0msave_to\u001b[0m\u001b[1;33m=\u001b[0m\u001b[0msave_to\u001b[0m\u001b[1;33m)\u001b[0m\u001b[1;33m\u001b[0m\u001b[0m\n\u001b[0m\u001b[0;32m     98\u001b[0m \u001b[1;33m\u001b[0m\u001b[0m\n\u001b[0;32m     99\u001b[0m \u001b[1;33m\u001b[0m\u001b[0m\n",
      "\u001b[1;32mC:\\Users\\hamza\\Anaconda3\\envs\\gl-env\\lib\\site-packages\\h2o\\backend\\connection.pyc\u001b[0m in \u001b[0;36mrequest\u001b[1;34m(self, endpoint, data, json, filename, save_to)\u001b[0m\n\u001b[0;32m    403\u001b[0m                                     auth=self._auth, verify=self._verify_ssl_cert, proxies=self._proxies)\n\u001b[0;32m    404\u001b[0m             \u001b[0mself\u001b[0m\u001b[1;33m.\u001b[0m\u001b[0m_log_end_transaction\u001b[0m\u001b[1;33m(\u001b[0m\u001b[0mstart_time\u001b[0m\u001b[1;33m,\u001b[0m \u001b[0mresp\u001b[0m\u001b[1;33m)\u001b[0m\u001b[1;33m\u001b[0m\u001b[0m\n\u001b[1;32m--> 405\u001b[1;33m             \u001b[1;32mreturn\u001b[0m \u001b[0mself\u001b[0m\u001b[1;33m.\u001b[0m\u001b[0m_process_response\u001b[0m\u001b[1;33m(\u001b[0m\u001b[0mresp\u001b[0m\u001b[1;33m,\u001b[0m \u001b[0msave_to\u001b[0m\u001b[1;33m)\u001b[0m\u001b[1;33m\u001b[0m\u001b[0m\n\u001b[0m\u001b[0;32m    406\u001b[0m \u001b[1;33m\u001b[0m\u001b[0m\n\u001b[0;32m    407\u001b[0m         \u001b[1;32mexcept\u001b[0m \u001b[1;33m(\u001b[0m\u001b[0mrequests\u001b[0m\u001b[1;33m.\u001b[0m\u001b[0mexceptions\u001b[0m\u001b[1;33m.\u001b[0m\u001b[0mConnectionError\u001b[0m\u001b[1;33m,\u001b[0m \u001b[0mrequests\u001b[0m\u001b[1;33m.\u001b[0m\u001b[0mexceptions\u001b[0m\u001b[1;33m.\u001b[0m\u001b[0mHTTPError\u001b[0m\u001b[1;33m)\u001b[0m \u001b[1;32mas\u001b[0m \u001b[0me\u001b[0m\u001b[1;33m:\u001b[0m\u001b[1;33m\u001b[0m\u001b[0m\n",
      "\u001b[1;32mC:\\Users\\hamza\\Anaconda3\\envs\\gl-env\\lib\\site-packages\\h2o\\backend\\connection.pyc\u001b[0m in \u001b[0;36m_process_response\u001b[1;34m(response, save_to)\u001b[0m\n\u001b[0;32m    724\u001b[0m         \u001b[1;31m# Client errors (400 = \"Bad Request\", 404 = \"Not Found\", 412 = \"Precondition Failed\")\u001b[0m\u001b[1;33m\u001b[0m\u001b[1;33m\u001b[0m\u001b[0m\n\u001b[0;32m    725\u001b[0m         \u001b[1;32mif\u001b[0m \u001b[0mstatus_code\u001b[0m \u001b[1;32min\u001b[0m \u001b[1;33m{\u001b[0m\u001b[1;36m400\u001b[0m\u001b[1;33m,\u001b[0m \u001b[1;36m404\u001b[0m\u001b[1;33m,\u001b[0m \u001b[1;36m412\u001b[0m\u001b[1;33m}\u001b[0m \u001b[1;32mand\u001b[0m \u001b[0misinstance\u001b[0m\u001b[1;33m(\u001b[0m\u001b[0mdata\u001b[0m\u001b[1;33m,\u001b[0m \u001b[1;33m(\u001b[0m\u001b[0mH2OErrorV3\u001b[0m\u001b[1;33m,\u001b[0m \u001b[0mH2OModelBuilderErrorV3\u001b[0m\u001b[1;33m)\u001b[0m\u001b[1;33m)\u001b[0m\u001b[1;33m:\u001b[0m\u001b[1;33m\u001b[0m\u001b[0m\n\u001b[1;32m--> 726\u001b[1;33m             \u001b[1;32mraise\u001b[0m \u001b[0mH2OResponseError\u001b[0m\u001b[1;33m(\u001b[0m\u001b[0mdata\u001b[0m\u001b[1;33m)\u001b[0m\u001b[1;33m\u001b[0m\u001b[0m\n\u001b[0m\u001b[0;32m    727\u001b[0m \u001b[1;33m\u001b[0m\u001b[0m\n\u001b[0;32m    728\u001b[0m         \u001b[1;31m# Server errors (notably 500 = \"Server Error\")\u001b[0m\u001b[1;33m\u001b[0m\u001b[1;33m\u001b[0m\u001b[0m\n",
      "\u001b[1;31mH2OResponseError\u001b[0m: ModelBuilderErrorV3  (water.exceptions.H2OModelBuilderIllegalArgumentException):\n    stacktrace =\n        water.exceptions.H2OModelBuilderIllegalArgumentException: Illegal argument(s) for NaiveBayes model: NaiveBayes_model_python_1488664156061_1.  Details: ERRR on field: _validation_frame: Validation frame must have > 0 rows.\n        water.exceptions.H2OModelBuilderIllegalArgumentException.makeFromBuilder(H2OModelBuilderIllegalArgumentException.java:20)\n        hex.ModelBuilder.trainModel(ModelBuilder.java:194)\n        water.api.ModelBuilderHandler.handle(ModelBuilderHandler.java:52)\n        water.api.ModelBuilderHandler.handle(ModelBuilderHandler.java:16)\n        water.api.RequestServer.serve(RequestServer.java:429)\n        water.api.RequestServer.doGeneric(RequestServer.java:280)\n        water.api.RequestServer.doPost(RequestServer.java:217)\n        javax.servlet.http.HttpServlet.service(HttpServlet.java:755)\n        javax.servlet.http.HttpServlet.service(HttpServlet.java:848)\n        org.eclipse.jetty.servlet.ServletHolder.handle(ServletHolder.java:684)\n        org.eclipse.jetty.servlet.ServletHandler.doHandle(ServletHandler.java:503)\n        org.eclipse.jetty.server.handler.ScopedHandler.handle(ScopedHandler.java:137)\n        org.eclipse.jetty.security.SecurityHandler.handle(SecurityHandler.java:557)\n        org.eclipse.jetty.server.session.SessionHandler.doHandle(SessionHandler.java:231)\n        org.eclipse.jetty.server.handler.ContextHandler.doHandle(ContextHandler.java:1086)\n        org.eclipse.jetty.servlet.ServletHandler.doScope(ServletHandler.java:429)\n        org.eclipse.jetty.server.session.SessionHandler.doScope(SessionHandler.java:193)\n        org.eclipse.jetty.server.handler.ContextHandler.doScope(ContextHandler.java:1020)\n        org.eclipse.jetty.server.handler.ScopedHandler.handle(ScopedHandler.java:135)\n        org.eclipse.jetty.server.handler.HandlerCollection.handle(HandlerCollection.java:154)\n        org.eclipse.jetty.server.handler.HandlerWrapper.handle(HandlerWrapper.java:116)\n        org.eclipse.jetty.server.Server.handle(Server.java:370)\n        org.eclipse.jetty.server.AbstractHttpConnection.handleRequest(AbstractHttpConnection.java:494)\n        org.eclipse.jetty.server.BlockingHttpConnection.handleRequest(BlockingHttpConnection.java:53)\n        org.eclipse.jetty.server.AbstractHttpConnection.content(AbstractHttpConnection.java:982)\n        org.eclipse.jetty.server.AbstractHttpConnection$RequestHandler.content(AbstractHttpConnection.java:1043)\n        org.eclipse.jetty.http.HttpParser.parseNext(HttpParser.java:865)\n        org.eclipse.jetty.http.HttpParser.parseAvailable(HttpParser.java:240)\n        org.eclipse.jetty.server.BlockingHttpConnection.handle(BlockingHttpConnection.java:72)\n        org.eclipse.jetty.server.bio.SocketConnector$ConnectorEndPoint.run(SocketConnector.java:264)\n        org.eclipse.jetty.util.thread.QueuedThreadPool.runJob(QueuedThreadPool.java:608)\n        org.eclipse.jetty.util.thread.QueuedThreadPool$3.run(QueuedThreadPool.java:543)\n        java.lang.Thread.run(Unknown Source)\n    parameters = {u'fold_column': None, u'response_column': {u'is_member_of_frames': None, u'column_name': u'Survived', u'__meta': {u'schema_name': u'ColSpecifierV3', u'schema_version': 3, u'schema_type': u'VecSpecifier'}}, u'stopping_metric': u'AUTO', u'parallelize_cross_validation': True, u'seed': 1, u'weights_column': None, u'stopping_rounds': 0, u'nfolds': 0, u'max_confusion_matrix_size': 20, u'offset_column': None, u'categorical_encoding': u'AUTO', u'checkpoint': None, u'stopping_tolerance': 0.001, u'huber_alpha': 0.9, u'max_runtime_secs': 0.0, u'quantile_alpha': 0.5, u'balance_classes': False, u'validation_frame': {u'URL': u'/3/Frames/py_11_sid_9699', u'type': u'Key<Frame>', u'name': u'py_11_sid_9699', u'__meta': {u'schema_name': u'FrameKeyV3', u'schema_version': 3, u'schema_type': u'Key<Frame>'}}, u'eps_prob': 0.0, u'min_sdev': 0.001, u'model_id': None, u'min_prob': 0.001, u'ignored_columns': None, u'tweedie_power': 1.5, u'eps_sdev': 0.0, u'score_each_iteration': False, u'max_after_balance_size': 5.0, u'compute_metrics': True, u'training_frame': {u'URL': u'/3/Frames/py_10_sid_9699', u'type': u'Key<Frame>', u'name': u'py_10_sid_9699', u'__meta': {u'schema_name': u'FrameKeyV3', u'schema_version': 3, u'schema_type': u'Key<Frame>'}}, u'laplace': 0.0, u'fold_assignment': u'AUTO', u'keep_cross_validation_predictions': False, u'__meta': {u'schema_name': u'NaiveBayesParametersV3', u'schema_version': 3, u'schema_type': u'NaiveBayesParameters'}, u'max_hit_ratio_k': 0, u'distribution': u'AUTO', u'class_sampling_factors': None, u'ignore_const_cols': True, u'keep_cross_validation_fold_assignment': False}\n    exception_msg = u'Illegal argument(s) for NaiveBayes model: NaiveBayes_model_python_1488664156061_1.  Details: ERRR on field: _validation_frame: Validation frame must have > 0 rows.'\n    timestamp = 1488664273506L\n    messages = [{u'field_name': u'keep_cross_validation_predictions', u'message': u'Only for cross-validation.', u'message_type': u'TRACE', u'__meta': {u'schema_name': u'ValidationMessageV3', u'schema_version': 3, u'schema_type': u'ValidationMessage'}}, {u'field_name': u'keep_cross_validation_fold_assignment', u'message': u'Only for cross-validation.', u'message_type': u'TRACE', u'__meta': {u'schema_name': u'ValidationMessageV3', u'schema_version': 3, u'schema_type': u'ValidationMessage'}}, {u'field_name': u'fold_assignment', u'message': u'Only for cross-validation.', u'message_type': u'TRACE', u'__meta': {u'schema_name': u'ValidationMessageV3', u'schema_version': 3, u'schema_type': u'ValidationMessage'}}, {u'field_name': u'tweedie_power', u'message': u'Only for Tweedie Distribution.', u'message_type': u'TRACE', u'__meta': {u'schema_name': u'ValidationMessageV3', u'schema_version': 3, u'schema_type': u'ValidationMessage'}}, {u'field_name': u'train', u'message': u'Dropping constant columns: [Ticket, Name, Parch]', u'message_type': u'WARN', u'__meta': {u'schema_name': u'ValidationMessageV3', u'schema_version': 3, u'schema_type': u'ValidationMessage'}}, {u'field_name': u'tweedie_power', u'message': u'Tweedie power is only used for Tweedie distribution.', u'message_type': u'TRACE', u'__meta': {u'schema_name': u'ValidationMessageV3', u'schema_version': 3, u'schema_type': u'ValidationMessage'}}, {u'field_name': u'quantile_alpha', u'message': u'Quantile (alpha) is only used for Quantile regression.', u'message_type': u'TRACE', u'__meta': {u'schema_name': u'ValidationMessageV3', u'schema_version': 3, u'schema_type': u'ValidationMessage'}}, {u'field_name': u'max_after_balance_size', u'message': u'Balance classes is false, hide max_after_balance_size', u'message_type': u'TRACE', u'__meta': {u'schema_name': u'ValidationMessageV3', u'schema_version': 3, u'schema_type': u'ValidationMessage'}}, {u'field_name': u'max_hit_ratio_k', u'message': u'Max K-value for hit ratio is only applicable to multi-class classification problems.', u'message_type': u'TRACE', u'__meta': {u'schema_name': u'ValidationMessageV3', u'schema_version': 3, u'schema_type': u'ValidationMessage'}}, {u'field_name': u'max_confusion_matrix_size', u'message': u'Only for multi-class classification problems.', u'message_type': u'TRACE', u'__meta': {u'schema_name': u'ValidationMessageV3', u'schema_version': 3, u'schema_type': u'ValidationMessage'}}, {u'field_name': u'max_after_balance_size', u'message': u'Only used with balanced classes', u'message_type': u'TRACE', u'__meta': {u'schema_name': u'ValidationMessageV3', u'schema_version': 3, u'schema_type': u'ValidationMessage'}}, {u'field_name': u'class_sampling_factors', u'message': u'Class sampling factors is only applicable if balancing classes.', u'message_type': u'TRACE', u'__meta': {u'schema_name': u'ValidationMessageV3', u'schema_version': 3, u'schema_type': u'ValidationMessage'}}, {u'field_name': u'validation_frame', u'message': u'Validation frame must have > 0 rows.', u'message_type': u'ERRR', u'__meta': {u'schema_name': u'ValidationMessageV3', u'schema_version': 3, u'schema_type': u'ValidationMessage'}}, {u'field_name': u'balance_classes', u'message': u'Balance classes is not applicable to NaiveBayes.', u'message_type': u'TRACE', u'__meta': {u'schema_name': u'ValidationMessageV3', u'schema_version': 3, u'schema_type': u'ValidationMessage'}}, {u'field_name': u'class_sampling_factors', u'message': u'Class sampling factors is not applicable to NaiveBayes.', u'message_type': u'TRACE', u'__meta': {u'schema_name': u'ValidationMessageV3', u'schema_version': 3, u'schema_type': u'ValidationMessage'}}, {u'field_name': u'max_after_balance_size', u'message': u'Max after balance size is not applicable to NaiveBayes.', u'message_type': u'TRACE', u'__meta': {u'schema_name': u'ValidationMessageV3', u'schema_version': 3, u'schema_type': u'ValidationMessage'}}]\n    error_url = u'/3/ModelBuilders/naivebayes'\n    values = {u'messages': [{u'_log_level': 5, u'_message': u'Only for cross-validation.', u'_field_name': u'_keep_cross_validation_predictions'}, {u'_log_level': 5, u'_message': u'Only for cross-validation.', u'_field_name': u'_keep_cross_validation_fold_assignment'}, {u'_log_level': 5, u'_message': u'Only for cross-validation.', u'_field_name': u'_fold_assignment'}, {u'_log_level': 5, u'_message': u'Only for Tweedie Distribution.', u'_field_name': u'_tweedie_power'}, {u'_log_level': 2, u'_message': u'Dropping constant columns: [Ticket, Name, Parch]', u'_field_name': u'_train'}, {u'_log_level': 5, u'_message': u'Tweedie power is only used for Tweedie distribution.', u'_field_name': u'_tweedie_power'}, {u'_log_level': 5, u'_message': u'Quantile (alpha) is only used for Quantile regression.', u'_field_name': u'_quantile_alpha'}, {u'_log_level': 5, u'_message': u'Balance classes is false, hide max_after_balance_size', u'_field_name': u'_max_after_balance_size'}, {u'_log_level': 5, u'_message': u'Max K-value for hit ratio is only applicable to multi-class classification problems.', u'_field_name': u'_max_hit_ratio_k'}, {u'_log_level': 5, u'_message': u'Only for multi-class classification problems.', u'_field_name': u'_max_confusion_matrix_size'}, {u'_log_level': 5, u'_message': u'Only used with balanced classes', u'_field_name': u'_max_after_balance_size'}, {u'_log_level': 5, u'_message': u'Class sampling factors is only applicable if balancing classes.', u'_field_name': u'_class_sampling_factors'}, {u'_log_level': 1, u'_message': u'Validation frame must have > 0 rows.', u'_field_name': u'_validation_frame'}, {u'_log_level': 5, u'_message': u'Balance classes is not applicable to NaiveBayes.', u'_field_name': u'_balance_classes'}, {u'_log_level': 5, u'_message': u'Class sampling factors is not applicable to NaiveBayes.', u'_field_name': u'_class_sampling_factors'}, {u'_log_level': 5, u'_message': u'Max after balance size is not applicable to NaiveBayes.', u'_field_name': u'_max_after_balance_size'}], u'algo': u'NaiveBayes', u'parameters': {u'_min_prob': 0.001, u'_fold_assignment': u'AUTO', u'_class_sampling_factors': None, u'_max_confusion_matrix_size': 20, u'_min_sdev': 0.001, u'_response_column': u'Survived', u'_score_each_iteration': False, u'_laplace': 0.0, u'_stopping_tolerance': 0.001, u'_distribution': u'AUTO', u'_stopping_metric': u'AUTO', u'_quantile_alpha': 0.5, u'_huber_alpha': 0.9, u'_max_after_balance_size': 5.0, u'_parallelize_cross_validation': True, u'_train': {u'type': u'Key', u'name': u'py_10_sid_9699'}, u'_pretrained_autoencoder': None, u'_valid': {u'type': u'Key', u'name': u'py_11_sid_9699'}, u'_checkpoint': None, u'_nfolds': 0, u'_is_cv_model': False, u'_offset_column': None, u'_seed': 1, u'_eps_prob': 0.0, u'_ignore_const_cols': True, u'_auto_rebalance': True, u'_eps_sdev': 0.0, u'_balance_classes': False, u'_stopping_rounds': 0, u'_fold_column': None, u'_keep_cross_validation_predictions': False, u'_categorical_encoding': u'AUTO', u'_tweedie_power': 1.5, u'_compute_metrics': True, u'_weights_column': None, u'_max_runtime_secs': 0.0, u'_keep_cross_validation_fold_assignment': False, u'_ignored_columns': None}, u'error_count': 1}\n    error_count = 1\n    http_status = 412\n    msg = u'Illegal argument(s) for NaiveBayes model: NaiveBayes_model_python_1488664156061_1.  Details: ERRR on field: _validation_frame: Validation frame must have > 0 rows.'\n    dev_msg = u'Illegal argument(s) for NaiveBayes model: NaiveBayes_model_python_1488664156061_1.  Details: ERRR on field: _validation_frame: Validation frame must have > 0 rows.'\n"
     ]
    }
   ],
   "source": [
    "nb =H2ONaiveBayesEstimator(seed =1)\n",
    "nb.train(x =input_col, y = 'Survived', training_frame=hdf_train, validation_frame=hdf_validate)"
   ]
  },
  {
   "cell_type": "code",
   "execution_count": null,
   "metadata": {
    "collapsed": false
   },
   "outputs": [],
   "source": [
    "def model_performance(model =  nb):\n",
    "    print 'Train accuracy:', model.auc(train=True)\n",
    "    print 'valid accuracy:', model.auc(valid=True)\n",
    "\n",
    "    roc_valid = model.roc(valid=True)\n",
    "    roc_train= model.roc()\n",
    "\n",
    "    plt.plot(roc_valid[0],roc_valid[1])\n",
    "    plt.plot(roc_train[0],roc_train[1])\n",
    "    plt.plot(np.arange(0.0,1.1,0.1),np.arange(0.0,1.1,0.1))\n",
    "    \n",
    "    plt.title('ROC Curve')\n",
    "    plt.legend(['Valid','Train'])\n",
    "    plt.show()\n",
    "\n",
    "model_performance()"
   ]
  },
  {
   "cell_type": "code",
   "execution_count": null,
   "metadata": {
    "collapsed": true
   },
   "outputs": [],
   "source": [
    "from h2o.estimators.gbm import H2OGradientBoostingEstimator"
   ]
  },
  {
   "cell_type": "code",
   "execution_count": null,
   "metadata": {
    "collapsed": false
   },
   "outputs": [],
   "source": [
    "gbm_model = H2OGradientBoostingEstimator(seed =1,  ntrees = 100, learn_rate = .1)\n",
    "gbm_model.train(x =input_col, y = 'Survived', training_frame=hdf_train, validation_frame=hdf_validate)"
   ]
  },
  {
   "cell_type": "code",
   "execution_count": null,
   "metadata": {
    "collapsed": false
   },
   "outputs": [],
   "source": [
    "model_performance(gbm_model)"
   ]
  },
  {
   "cell_type": "code",
   "execution_count": null,
   "metadata": {
    "collapsed": false
   },
   "outputs": [],
   "source": [
    "gbm_model.plot()"
   ]
  },
  {
   "cell_type": "code",
   "execution_count": null,
   "metadata": {
    "collapsed": false
   },
   "outputs": [],
   "source": [
    "gbm_model1 = H2OGradientBoostingEstimator(seed =1,  ntrees = 15, learn_rate = .2003, distribution = 'AUTO', \n",
    "                                          build_tree_one_node = True)\n",
    "gbm_model1.train(x =input_col, y = 'Survived', training_frame=hdf_train, validation_frame=hdf_validate)"
   ]
  },
  {
   "cell_type": "code",
   "execution_count": null,
   "metadata": {
    "collapsed": false
   },
   "outputs": [],
   "source": [
    "model_performance(gbm_model1)"
   ]
  },
  {
   "cell_type": "code",
   "execution_count": null,
   "metadata": {
    "collapsed": false
   },
   "outputs": [],
   "source": [
    "gbm_model1.plot()"
   ]
  },
  {
   "cell_type": "code",
   "execution_count": null,
   "metadata": {
    "collapsed": true
   },
   "outputs": [],
   "source": []
  },
  {
   "cell_type": "markdown",
   "metadata": {},
   "source": [
    "## Predict with test data"
   ]
  },
  {
   "cell_type": "code",
   "execution_count": null,
   "metadata": {
    "collapsed": false
   },
   "outputs": [],
   "source": [
    "df_test = pd.read_csv('F:/Titanic/data/test.csv')\n",
    "\n",
    "replace_age_fraction(df_test)\n",
    "replace_na_to_mode(df_test)"
   ]
  },
  {
   "cell_type": "code",
   "execution_count": null,
   "metadata": {
    "collapsed": true
   },
   "outputs": [],
   "source": [
    "df_poly_test = pd.concat([polynomial_data(df_test,'Pclass',2), \n",
    "                 polynomial_data(df_test,'Age',5),\n",
    "                 polynomial_data(df_test,'Fare',4), \n",
    "                 df_test], axis=1).head()"
   ]
  },
  {
   "cell_type": "code",
   "execution_count": null,
   "metadata": {
    "collapsed": false
   },
   "outputs": [],
   "source": [
    "# df_poly_test.head()"
   ]
  },
  {
   "cell_type": "code",
   "execution_count": null,
   "metadata": {
    "collapsed": false
   },
   "outputs": [],
   "source": [
    "hdf_test = h2o.H2OFrame(df_poly_test)"
   ]
  },
  {
   "cell_type": "code",
   "execution_count": null,
   "metadata": {
    "collapsed": true
   },
   "outputs": [],
   "source": [
    "def get_prediction(model= gbm_model, hdf_data = hdf_test, create_frame=True):\n",
    "    prediction = model.predict(hdf_data)\n",
    "    \n",
    "    if(create_frame == True):\n",
    "        lst_id=range(892,len(df_test['Age'])+892)\n",
    "\n",
    "        #initialize dataframe and save prediction values in Survived columns and lst_id in Passenger id coloums\n",
    "        df_submission = pd.DataFrame()\n",
    "        df_submission['PassengerId'] = lst_id\n",
    "        df_submission['Survived'] = prediction['predict'].as_data_frame()\n",
    "        \n",
    "        return df_submission\n",
    "\n",
    "    else:\n",
    "    #     prediction['predict'].unique()\n",
    "        return prediction"
   ]
  },
  {
   "cell_type": "code",
   "execution_count": null,
   "metadata": {
    "collapsed": false
   },
   "outputs": [],
   "source": [
    "df_submission = get_prediction(gbm_model1,data=df_poly_test, create_frame=True)"
   ]
  },
  {
   "cell_type": "code",
   "execution_count": null,
   "metadata": {
    "collapsed": true
   },
   "outputs": [],
   "source": [
    "df_submission.to_csv('F:/Titanic/data/submission.csv',index=False)"
   ]
  }
 ],
 "metadata": {
  "kernelspec": {
   "display_name": "Python 2",
   "language": "python",
   "name": "python2"
  },
  "language_info": {
   "codemirror_mode": {
    "name": "ipython",
    "version": 2
   },
   "file_extension": ".py",
   "mimetype": "text/x-python",
   "name": "python",
   "nbconvert_exporter": "python",
   "pygments_lexer": "ipython2",
   "version": "2.7.11"
  }
 },
 "nbformat": 4,
 "nbformat_minor": 0
}
